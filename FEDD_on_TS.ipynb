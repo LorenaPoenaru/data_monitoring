{
 "cells": [
  {
   "cell_type": "code",
   "execution_count": 1,
   "id": "73ee952f",
   "metadata": {},
   "outputs": [],
   "source": [
    "from detectors.FEDD import FEDD\n",
    "import pandas as pd\n",
    "import numpy as np\n",
    "from tqdm import tqdm"
   ]
  },
  {
   "cell_type": "code",
   "execution_count": 2,
   "id": "54f0e894",
   "metadata": {},
   "outputs": [],
   "source": [
    "def insert_value_to_array(array, value):\n",
    "    '''\n",
    "    This function adds a value to a given array\n",
    "    :param: array: the array to add the value\n",
    "    :param: value: the value to be added\n",
    "    :return: the array with the added value\n",
    "    '''\n",
    "\n",
    "    if(len(array) == 1):\n",
    "        aux2 = len(array[0])\n",
    "        aux = [0] * aux2\n",
    "        aux[len(array[0])-1] = value\n",
    "        aux[:len(aux)-1] = array[0][1:]\n",
    "        array[0] = aux\n",
    "        array[0] = np.asarray(array[0])\n",
    "        array[0] = np.column_stack(array[0])\n",
    "\n",
    "        return array\n",
    "\n",
    "    else:\n",
    "        aux2 = len(array)\n",
    "        aux = [0] * aux2\n",
    "        aux[len(array)-1] = value\n",
    "        aux[:len(aux)-1] = array[1:]\n",
    "        array = aux\n",
    "        array = np.asarray(array)\n",
    "        array = np.column_stack(array)\n",
    "\n",
    "        return array"
   ]
  },
  {
   "cell_type": "markdown",
   "id": "7adbb8cd",
   "metadata": {},
   "source": [
    "# Reading Data"
   ]
  },
  {
   "cell_type": "markdown",
   "id": "727384c4",
   "metadata": {},
   "source": [
    "Training data is the initial reference data."
   ]
  },
  {
   "cell_type": "code",
   "execution_count": 3,
   "id": "1dd9e13f",
   "metadata": {},
   "outputs": [
    {
     "data": {
      "text/html": [
       "<div>\n",
       "<style scoped>\n",
       "    .dataframe tbody tr th:only-of-type {\n",
       "        vertical-align: middle;\n",
       "    }\n",
       "\n",
       "    .dataframe tbody tr th {\n",
       "        vertical-align: top;\n",
       "    }\n",
       "\n",
       "    .dataframe thead th {\n",
       "        text-align: right;\n",
       "    }\n",
       "</style>\n",
       "<table border=\"1\" class=\"dataframe\">\n",
       "  <thead>\n",
       "    <tr style=\"text-align: right;\">\n",
       "      <th></th>\n",
       "      <th>timestamp</th>\n",
       "      <th>value</th>\n",
       "      <th>is_anomaly</th>\n",
       "    </tr>\n",
       "  </thead>\n",
       "  <tbody>\n",
       "    <tr>\n",
       "      <th>0</th>\n",
       "      <td>1</td>\n",
       "      <td>39.234298</td>\n",
       "      <td>0</td>\n",
       "    </tr>\n",
       "    <tr>\n",
       "      <th>1</th>\n",
       "      <td>2</td>\n",
       "      <td>39.191655</td>\n",
       "      <td>0</td>\n",
       "    </tr>\n",
       "    <tr>\n",
       "      <th>2</th>\n",
       "      <td>3</td>\n",
       "      <td>39.322198</td>\n",
       "      <td>0</td>\n",
       "    </tr>\n",
       "    <tr>\n",
       "      <th>3</th>\n",
       "      <td>4</td>\n",
       "      <td>40.124975</td>\n",
       "      <td>0</td>\n",
       "    </tr>\n",
       "    <tr>\n",
       "      <th>4</th>\n",
       "      <td>5</td>\n",
       "      <td>39.485182</td>\n",
       "      <td>0</td>\n",
       "    </tr>\n",
       "    <tr>\n",
       "      <th>...</th>\n",
       "      <td>...</td>\n",
       "      <td>...</td>\n",
       "      <td>...</td>\n",
       "    </tr>\n",
       "    <tr>\n",
       "      <th>725</th>\n",
       "      <td>726</td>\n",
       "      <td>38.147664</td>\n",
       "      <td>0</td>\n",
       "    </tr>\n",
       "    <tr>\n",
       "      <th>726</th>\n",
       "      <td>727</td>\n",
       "      <td>37.778743</td>\n",
       "      <td>0</td>\n",
       "    </tr>\n",
       "    <tr>\n",
       "      <th>727</th>\n",
       "      <td>728</td>\n",
       "      <td>37.720224</td>\n",
       "      <td>0</td>\n",
       "    </tr>\n",
       "    <tr>\n",
       "      <th>728</th>\n",
       "      <td>729</td>\n",
       "      <td>37.856228</td>\n",
       "      <td>0</td>\n",
       "    </tr>\n",
       "    <tr>\n",
       "      <th>729</th>\n",
       "      <td>730</td>\n",
       "      <td>35.970656</td>\n",
       "      <td>0</td>\n",
       "    </tr>\n",
       "  </tbody>\n",
       "</table>\n",
       "<p>730 rows × 3 columns</p>\n",
       "</div>"
      ],
      "text/plain": [
       "     timestamp      value  is_anomaly\n",
       "0            1  39.234298           0\n",
       "1            2  39.191655           0\n",
       "2            3  39.322198           0\n",
       "3            4  40.124975           0\n",
       "4            5  39.485182           0\n",
       "..         ...        ...         ...\n",
       "725        726  38.147664           0\n",
       "726        727  37.778743           0\n",
       "727        728  37.720224           0\n",
       "728        729  37.856228           0\n",
       "729        730  35.970656           0\n",
       "\n",
       "[730 rows x 3 columns]"
      ]
     },
     "execution_count": 3,
     "metadata": {},
     "output_type": "execute_result"
    }
   ],
   "source": [
    "data_train = pd.read_csv('./datasets/train/real_53.csv')\n",
    "data_train = data_train.loc[:, ~data_train.columns.str.contains('^Unnamed')]\n",
    "data_train"
   ]
  },
  {
   "cell_type": "markdown",
   "id": "1491647a",
   "metadata": {},
   "source": [
    "Testing data is the data that we compare the reference data with."
   ]
  },
  {
   "cell_type": "code",
   "execution_count": 4,
   "id": "1ef99438",
   "metadata": {},
   "outputs": [
    {
     "data": {
      "text/html": [
       "<div>\n",
       "<style scoped>\n",
       "    .dataframe tbody tr th:only-of-type {\n",
       "        vertical-align: middle;\n",
       "    }\n",
       "\n",
       "    .dataframe tbody tr th {\n",
       "        vertical-align: top;\n",
       "    }\n",
       "\n",
       "    .dataframe thead th {\n",
       "        text-align: right;\n",
       "    }\n",
       "</style>\n",
       "<table border=\"1\" class=\"dataframe\">\n",
       "  <thead>\n",
       "    <tr style=\"text-align: right;\">\n",
       "      <th></th>\n",
       "      <th>timestamp</th>\n",
       "      <th>value</th>\n",
       "      <th>is_anomaly</th>\n",
       "    </tr>\n",
       "  </thead>\n",
       "  <tbody>\n",
       "    <tr>\n",
       "      <th>0</th>\n",
       "      <td>731</td>\n",
       "      <td>35.613821</td>\n",
       "      <td>0</td>\n",
       "    </tr>\n",
       "    <tr>\n",
       "      <th>1</th>\n",
       "      <td>732</td>\n",
       "      <td>34.576222</td>\n",
       "      <td>0</td>\n",
       "    </tr>\n",
       "    <tr>\n",
       "      <th>2</th>\n",
       "      <td>733</td>\n",
       "      <td>34.067086</td>\n",
       "      <td>0</td>\n",
       "    </tr>\n",
       "    <tr>\n",
       "      <th>3</th>\n",
       "      <td>734</td>\n",
       "      <td>32.971614</td>\n",
       "      <td>0</td>\n",
       "    </tr>\n",
       "    <tr>\n",
       "      <th>4</th>\n",
       "      <td>735</td>\n",
       "      <td>32.782703</td>\n",
       "      <td>0</td>\n",
       "    </tr>\n",
       "    <tr>\n",
       "      <th>...</th>\n",
       "      <td>...</td>\n",
       "      <td>...</td>\n",
       "      <td>...</td>\n",
       "    </tr>\n",
       "    <tr>\n",
       "      <th>726</th>\n",
       "      <td>1457</td>\n",
       "      <td>21.622908</td>\n",
       "      <td>1</td>\n",
       "    </tr>\n",
       "    <tr>\n",
       "      <th>727</th>\n",
       "      <td>1458</td>\n",
       "      <td>23.093519</td>\n",
       "      <td>1</td>\n",
       "    </tr>\n",
       "    <tr>\n",
       "      <th>728</th>\n",
       "      <td>1459</td>\n",
       "      <td>22.667180</td>\n",
       "      <td>1</td>\n",
       "    </tr>\n",
       "    <tr>\n",
       "      <th>729</th>\n",
       "      <td>1460</td>\n",
       "      <td>23.114132</td>\n",
       "      <td>1</td>\n",
       "    </tr>\n",
       "    <tr>\n",
       "      <th>730</th>\n",
       "      <td>1461</td>\n",
       "      <td>24.525654</td>\n",
       "      <td>1</td>\n",
       "    </tr>\n",
       "  </tbody>\n",
       "</table>\n",
       "<p>731 rows × 3 columns</p>\n",
       "</div>"
      ],
      "text/plain": [
       "     timestamp      value  is_anomaly\n",
       "0          731  35.613821           0\n",
       "1          732  34.576222           0\n",
       "2          733  34.067086           0\n",
       "3          734  32.971614           0\n",
       "4          735  32.782703           0\n",
       "..         ...        ...         ...\n",
       "726       1457  21.622908           1\n",
       "727       1458  23.093519           1\n",
       "728       1459  22.667180           1\n",
       "729       1460  23.114132           1\n",
       "730       1461  24.525654           1\n",
       "\n",
       "[731 rows x 3 columns]"
      ]
     },
     "execution_count": 4,
     "metadata": {},
     "output_type": "execute_result"
    }
   ],
   "source": [
    "data_test = pd.read_csv('./datasets/test/real_53.csv')\n",
    "data_test = data_test.loc[:, ~data_test.columns.str.contains('^Unnamed')]\n",
    "data_test"
   ]
  },
  {
   "cell_type": "markdown",
   "id": "c404f3e8",
   "metadata": {},
   "source": [
    "Extract TS values for testing.\n",
    "\n",
    "Testing values -> stream"
   ]
  },
  {
   "cell_type": "code",
   "execution_count": 5,
   "id": "7cc5b20a",
   "metadata": {},
   "outputs": [],
   "source": [
    "stream = list(data_test.value)"
   ]
  },
  {
   "cell_type": "code",
   "execution_count": 6,
   "id": "c64f6731",
   "metadata": {},
   "outputs": [
    {
     "name": "stdout",
     "output_type": "stream",
     "text": [
      "TEST DATA LEN 731\n"
     ]
    }
   ],
   "source": [
    "print('TEST DATA LEN',len(stream))"
   ]
  },
  {
   "cell_type": "code",
   "execution_count": 7,
   "id": "b454a4ad",
   "metadata": {},
   "outputs": [],
   "source": [
    "# Adjustable parameters\n",
    "Lambda = 0.2 # higher dive more importance to recent values, vulnerable to noise and outliers\n",
    "w = 0.25\n",
    "c = 0.25\n",
    "n = 300 # timestamps / adjustable??"
   ]
  },
  {
   "cell_type": "code",
   "execution_count": 8,
   "id": "3022f4b1",
   "metadata": {},
   "outputs": [],
   "source": [
    "def Execute(grafico = None):\n",
    "    \n",
    "    # Detector initialization\n",
    "    # Initialization is done by extracting two consecutive time series of length = len(reference data)-qtd from the initial reference data and computing the features/distances with FEDD\n",
    "    qtd = 3 # variable for shifting the reference data\n",
    "    final = len(data_train) \n",
    "    \n",
    "    print(final)\n",
    "    \n",
    "    fedd = FEDD(Lambda, w, c)\n",
    "    \n",
    "    # extracting features reference data time series 1\n",
    "    feature_vector_0 = fedd.FE(data_train.value[:final-qtd])\n",
    "    \n",
    "\n",
    "    # extracting features reference data time series 2 and computing the distance\n",
    "    distances_array = []\n",
    "    for i in range(1, qtd):\n",
    "        feature_vector = fedd.FE(data_train.value[i:final-qtd+i])\n",
    "                \n",
    "        distance = fedd.compute_distance(feature_vector_0, feature_vector)\n",
    "        distances_array.append(distance)\n",
    "    \n",
    "    # initializing M0\n",
    "    fedd.storing_agv_dev(feature_vector_0, np.mean(distances_array), np.std(distances_array))\n",
    "    \n",
    "    \n",
    "    drift_occured = False # variable that indicates when drift is detected\n",
    "\n",
    "    reference_data = list(data_train.value) # the initial reference data (can be changed)\n",
    "    \n",
    "    indexes_drifts = [] # variable for storing the index of drifts\n",
    "    indexes_alarms = [] # variable for storing the index of warnings\n",
    "    \n",
    "    # this method works in an online fashion (it has a sliding window of one sample)\n",
    "    for i in tqdm(range(1, len(stream))):\n",
    "        \n",
    "        \n",
    "        if(drift_occured == False):\n",
    "        \n",
    "            # Sliding Window technique\n",
    "            # inserting a value from the stream to the initial reference data and forgeting the first value of it\n",
    "            time_series_window = insert_value_to_array(reference_data, stream[i])\n",
    "            reference_data = time_series_window\n",
    "            \n",
    "\n",
    "            # extracting features from the current time series\n",
    "            current_feature_vector = fedd.FE(time_series_window[0])\n",
    "\n",
    "\n",
    "            # computing the distance\n",
    "            distance = fedd.compute_distance(fedd.initial_feature_vector, current_feature_vector)\n",
    "            \n",
    "            \n",
    "\n",
    "            # updating the distance average and standard deviation of ewma\n",
    "            fedd.update_ewma(distance, i+1)\n",
    "            \n",
    "            # monitor changes\n",
    "            string_fedd = fedd.monitoring()\n",
    "            \n",
    "            \n",
    "            if(string_fedd == fedd.alert):\n",
    "                if(grafico == True):\n",
    "                    print(\"[%d] Warning\" % (i))\n",
    "                indexes_alarms.append(i)\n",
    "\n",
    "            if(string_fedd == fedd.change):\n",
    "                if(grafico == True):\n",
    "                    print(\"[%d] Change detected\" % (i))\n",
    "                indexes_drifts.append(i)\n",
    "\n",
    "                drift_occured = True\n",
    "\n",
    "        else:\n",
    "            \n",
    "            # if drift occured before perform initialization after shifting the TS with n to avoid including too much of the old concept\n",
    "            if(i < indexes_drifts[len(indexes_drifts)-1] + n):\n",
    "                time_series_window = insert_value_to_array(reference_data, stream[i])\n",
    "                reference_data = time_series_window\n",
    "            else:\n",
    "                \n",
    "                                \n",
    "                fedd = FEDD(Lambda, w, c)\n",
    "                final = len(time_series_window[0])\n",
    "                qtd = 3\n",
    "                \n",
    "                # reinitialization on the new TS\n",
    "                \n",
    "                feature_vector_0 = fedd.FE(reference_data[0][:final-qtd])\n",
    "                \n",
    "                \n",
    "                distances_array = []\n",
    "                \n",
    "                # computing distances\n",
    "                for i in range(1, qtd):\n",
    "                    vetor_caracteristicas = fedd.FE(reference_data[0][i:final-qtd+i])\n",
    "                    distance = fedd.compute_distance(feature_vector_0, vetor_caracteristicas)\n",
    "                    distances_array.append(distance)\n",
    "                \n",
    "                # updating the distance average and standard deviation of ewma \n",
    "                fedd.storing_agv_dev(feature_vector_0, np.mean(distances_array), np.std(distances_array))\n",
    "                \n",
    "                drift_occured = False\n",
    "\n",
    "    return indexes_drifts, indexes_alarms"
   ]
  },
  {
   "cell_type": "code",
   "execution_count": 12,
   "id": "93378b48",
   "metadata": {},
   "outputs": [
    {
     "name": "stdout",
     "output_type": "stream",
     "text": [
      "730\n"
     ]
    },
    {
     "name": "stderr",
     "output_type": "stream",
     "text": [
      " 31%|██████████████████████████████████████████████████████▍                                                                                                                         | 226/730 [00:00<00:00, 655.77it/s]"
     ]
    },
    {
     "name": "stdout",
     "output_type": "stream",
     "text": [
      "[120] Change detected\n"
     ]
    },
    {
     "name": "stderr",
     "output_type": "stream",
     "text": [
      " 86%|███████████████████████████████████████████████████████████████████████████████████████████████████████████████████████████████████████████████████████▏                        | 627/730 [00:00<00:00, 931.93it/s]"
     ]
    },
    {
     "name": "stdout",
     "output_type": "stream",
     "text": [
      "[426] Change detected\n"
     ]
    },
    {
     "name": "stderr",
     "output_type": "stream",
     "text": [
      "100%|████████████████████████████████████████████████████████████████████████████████████████████████████████████████████████████████████████████████████████████████████████████████| 730/730 [00:00<00:00, 783.26it/s]\n"
     ]
    }
   ],
   "source": [
    "detected, alarms = Execute(grafico = True)"
   ]
  },
  {
   "cell_type": "code",
   "execution_count": 13,
   "id": "875b0b37",
   "metadata": {},
   "outputs": [
    {
     "data": {
      "text/plain": [
       "[120, 426]"
      ]
     },
     "execution_count": 13,
     "metadata": {},
     "output_type": "execute_result"
    }
   ],
   "source": [
    "detected"
   ]
  },
  {
   "cell_type": "code",
   "execution_count": 15,
   "id": "e4aed38d",
   "metadata": {},
   "outputs": [
    {
     "data": {
      "text/plain": [
       "[]"
      ]
     },
     "execution_count": 15,
     "metadata": {},
     "output_type": "execute_result"
    }
   ],
   "source": [
    "alarms"
   ]
  },
  {
   "cell_type": "code",
   "execution_count": null,
   "id": "d696f9ae",
   "metadata": {},
   "outputs": [],
   "source": []
  }
 ],
 "metadata": {
  "kernelspec": {
   "display_name": "Python 3 (ipykernel)",
   "language": "python",
   "name": "python3"
  },
  "language_info": {
   "codemirror_mode": {
    "name": "ipython",
    "version": 3
   },
   "file_extension": ".py",
   "mimetype": "text/x-python",
   "name": "python",
   "nbconvert_exporter": "python",
   "pygments_lexer": "ipython3",
   "version": "3.11.1"
  }
 },
 "nbformat": 4,
 "nbformat_minor": 5
}
